{
 "metadata": {
  "language_info": {
   "codemirror_mode": {
    "name": "ipython",
    "version": 3
   },
   "file_extension": ".py",
   "mimetype": "text/x-python",
   "name": "python",
   "nbconvert_exporter": "python",
   "pygments_lexer": "ipython3",
   "version": 3
  },
  "orig_nbformat": 2
 },
 "nbformat": 4,
 "nbformat_minor": 2,
 "cells": [
  {
   "source": [
    "381. O(1) 时间插入、删除和获取随机元素 - 允许重复\n",
    "\n",
    "设计一个支持在平均 时间复杂度 **O(1)** 下， 执行以下操作的数据结构。\n",
    "\n",
    "**注意: 允许出现重复元素。**\n",
    "\n",
    "insert(val)：向集合中插入元素 val。\n",
    "\n",
    "remove(val)：当 val 存在时，从集合中移除一个 val。\n",
    "\n",
    "getRandom：从现有集合中随机获取一个元素。每个元素被返回的概率应该与其在集合中的数量呈线性相关。"
   ],
   "cell_type": "markdown",
   "metadata": {}
  },
  {
   "cell_type": "code",
   "execution_count": null,
   "metadata": {},
   "outputs": [],
   "source": [
    "import random\n",
    "\n",
    "\n",
    "class RandomizedCollection(object):\n",
    "\n",
    "    def __init__(self):\n",
    "\n",
    "        self.table = {}\n",
    "        self.ns = []\n",
    "\n",
    "    def insert(self, val: int) -> bool:\n",
    "\n",
    "        flag = val not in self.table\n",
    "        if flag:\n",
    "            self.table[val] = {len(self.ns)}\n",
    "        else:\n",
    "            self.table[val].add(len(self.ns))\n",
    "        self.ns.append(val)\n",
    "        return flag\n",
    "\n",
    "    def remove(self, val: int) -> bool:\n",
    "\n",
    "        flag = val in self.table\n",
    "        if flag:\n",
    "            last_idx = len(self.ns)-1\n",
    "            v = self.ns[last_idx]\n",
    "            index = self.table[val].pop()\n",
    "            self.ns[index] = self.ns[last_idx]\n",
    "\n",
    "            if last_idx != index:  # 最后一个元素从last_index的位置挪到了index，也就是原来的被删除的元素的位置\n",
    "                self.table[v].remove(last_idx)\n",
    "                self.table[v].add(index)\n",
    "            if not len(self.table[val]):\n",
    "                # 如果被删除的元素只有一个，那这个元素删除之后，地址映射也删掉\n",
    "                self.table.pop(val)\n",
    "\n",
    "            self.ns.pop()\n",
    "        return flag\n",
    "\n",
    "    def getRandom(self) -> int:\n",
    "        \n",
    "        return random.choice(self.ns)"
   ]
  }
 ]
}